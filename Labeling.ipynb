{
 "cells": [
  {
   "cell_type": "markdown",
   "id": "1aa62323-7bc0-49a4-8652-fbc1c3a190e3",
   "metadata": {
    "editable": true,
    "slideshow": {
     "slide_type": ""
    },
    "tags": []
   },
   "source": [
    "# **Labeling**"
   ]
  },
  {
   "cell_type": "markdown",
   "id": "d217ad62-da7b-4c8a-b09e-d178a7b4c4ec",
   "metadata": {},
   "source": [
    "# Load Data"
   ]
  },
  {
   "cell_type": "code",
   "execution_count": 6,
   "id": "6a8de633-21bc-40a9-80de-2064e7e45378",
   "metadata": {
    "editable": true,
    "slideshow": {
     "slide_type": ""
    },
    "tags": []
   },
   "outputs": [],
   "source": [
    "import pandas as pd\n",
    "df=pd.read_csv(r'datapro.csv')"
   ]
  },
  {
   "cell_type": "code",
   "execution_count": 7,
   "id": "14c36cd7-3444-4769-b15a-cac7a0b9b159",
   "metadata": {},
   "outputs": [
    {
     "data": {
      "text/html": [
       "<div>\n",
       "<style scoped>\n",
       "    .dataframe tbody tr th:only-of-type {\n",
       "        vertical-align: middle;\n",
       "    }\n",
       "\n",
       "    .dataframe tbody tr th {\n",
       "        vertical-align: top;\n",
       "    }\n",
       "\n",
       "    .dataframe thead th {\n",
       "        text-align: right;\n",
       "    }\n",
       "</style>\n",
       "<table border=\"1\" class=\"dataframe\">\n",
       "  <thead>\n",
       "    <tr style=\"text-align: right;\">\n",
       "      <th></th>\n",
       "      <th>stemming</th>\n",
       "    </tr>\n",
       "  </thead>\n",
       "  <tbody>\n",
       "    <tr>\n",
       "      <th>0</th>\n",
       "      <td>kayak kopi kenang janji_jiwa</td>\n",
       "    </tr>\n",
       "    <tr>\n",
       "      <th>1</th>\n",
       "      <td>lanjut janji_jiwa stay hungry tau</td>\n",
       "    </tr>\n",
       "    <tr>\n",
       "      <th>2</th>\n",
       "      <td>hari kopi nya caramel macchiato janji_jiwa</td>\n",
       "    </tr>\n",
       "    <tr>\n",
       "      <th>3</th>\n",
       "      <td>janji_jiwa seblak aesthetic</td>\n",
       "    </tr>\n",
       "    <tr>\n",
       "      <th>4</th>\n",
       "      <td>banyak engga suka janji_jiwa padahal favorit i...</td>\n",
       "    </tr>\n",
       "  </tbody>\n",
       "</table>\n",
       "</div>"
      ],
      "text/plain": [
       "                                            stemming\n",
       "0                       kayak kopi kenang janji_jiwa\n",
       "1                  lanjut janji_jiwa stay hungry tau\n",
       "2         hari kopi nya caramel macchiato janji_jiwa\n",
       "3                        janji_jiwa seblak aesthetic\n",
       "4  banyak engga suka janji_jiwa padahal favorit i..."
      ]
     },
     "execution_count": 7,
     "metadata": {},
     "output_type": "execute_result"
    }
   ],
   "source": [
    "data=pd.DataFrame(df['stemming'])\n",
    "data.head()"
   ]
  },
  {
   "cell_type": "code",
   "execution_count": 8,
   "id": "38a5f33a-15f8-4bef-9d23-bc4ebca192de",
   "metadata": {
    "editable": true,
    "slideshow": {
     "slide_type": ""
    },
    "tags": []
   },
   "outputs": [],
   "source": [
    "import re\n",
    "\n",
    "def preprocess_text(text):\n",
    "    if isinstance(text, str):\n",
    "        text = re.sub(r'janji jiwa', 'janji_jiwa', text, flags=re.IGNORECASE)\n",
    "    return text\n",
    "\n",
    "data['stemming'] = data['stemming'].apply(preprocess_text)\n"
   ]
  },
  {
   "cell_type": "code",
   "execution_count": 9,
   "id": "02166612-84a9-43fb-870f-eaaff160e55b",
   "metadata": {},
   "outputs": [
    {
     "data": {
      "text/html": [
       "<div>\n",
       "<style scoped>\n",
       "    .dataframe tbody tr th:only-of-type {\n",
       "        vertical-align: middle;\n",
       "    }\n",
       "\n",
       "    .dataframe tbody tr th {\n",
       "        vertical-align: top;\n",
       "    }\n",
       "\n",
       "    .dataframe thead th {\n",
       "        text-align: right;\n",
       "    }\n",
       "</style>\n",
       "<table border=\"1\" class=\"dataframe\">\n",
       "  <thead>\n",
       "    <tr style=\"text-align: right;\">\n",
       "      <th></th>\n",
       "      <th>stemming</th>\n",
       "    </tr>\n",
       "  </thead>\n",
       "  <tbody>\n",
       "    <tr>\n",
       "      <th>0</th>\n",
       "      <td>kayak kopi kenang janji_jiwa</td>\n",
       "    </tr>\n",
       "    <tr>\n",
       "      <th>1</th>\n",
       "      <td>lanjut janji_jiwa stay hungry tau</td>\n",
       "    </tr>\n",
       "    <tr>\n",
       "      <th>2</th>\n",
       "      <td>hari kopi nya caramel macchiato janji_jiwa</td>\n",
       "    </tr>\n",
       "    <tr>\n",
       "      <th>3</th>\n",
       "      <td>janji_jiwa seblak aesthetic</td>\n",
       "    </tr>\n",
       "    <tr>\n",
       "      <th>4</th>\n",
       "      <td>banyak engga suka janji_jiwa padahal favorit i...</td>\n",
       "    </tr>\n",
       "  </tbody>\n",
       "</table>\n",
       "</div>"
      ],
      "text/plain": [
       "                                            stemming\n",
       "0                       kayak kopi kenang janji_jiwa\n",
       "1                  lanjut janji_jiwa stay hungry tau\n",
       "2         hari kopi nya caramel macchiato janji_jiwa\n",
       "3                        janji_jiwa seblak aesthetic\n",
       "4  banyak engga suka janji_jiwa padahal favorit i..."
      ]
     },
     "execution_count": 9,
     "metadata": {},
     "output_type": "execute_result"
    }
   ],
   "source": [
    "data.head()"
   ]
  },
  {
   "cell_type": "code",
   "execution_count": 13,
   "id": "03145cb0-a4fd-41fa-bc86-e66504423ef8",
   "metadata": {
    "editable": true,
    "slideshow": {
     "slide_type": ""
    },
    "tags": []
   },
   "outputs": [
    {
     "name": "stdout",
     "output_type": "stream",
     "text": [
      "491\n"
     ]
    }
   ],
   "source": [
    "print(data['stemming'].isnull().sum())  "
   ]
  },
  {
   "cell_type": "code",
   "execution_count": 16,
   "id": "61244674-8fa1-4da5-aa70-050d73ad49f1",
   "metadata": {},
   "outputs": [
    {
     "name": "stdout",
     "output_type": "stream",
     "text": [
      "Number of rows after removing NaN in the \"stemming\" column.: 13734\n"
     ]
    }
   ],
   "source": [
    "dfa=data.dropna(subset=['stemming'])\n",
    "\n",
    "print(f'Number of rows after removing NaN in the \"stemming\" column.: {dfa.shape[0]}')"
   ]
  },
  {
   "cell_type": "code",
   "execution_count": 18,
   "id": "ca115dca-de91-4fcd-84ea-a2e92cf94854",
   "metadata": {},
   "outputs": [
    {
     "name": "stdout",
     "output_type": "stream",
     "text": [
      "0\n"
     ]
    }
   ],
   "source": [
    "print(dfa['stemming'].isnull().sum()) "
   ]
  },
  {
   "cell_type": "markdown",
   "id": "268596cb-f02f-45b4-84a7-b1b25eb46aae",
   "metadata": {},
   "source": [
    "# Inset Lexicon"
   ]
  },
  {
   "cell_type": "code",
   "execution_count": 21,
   "id": "3936abe2-f38e-4d2b-aa34-a8049d3997e5",
   "metadata": {
    "editable": true,
    "slideshow": {
     "slide_type": ""
    },
    "tags": []
   },
   "outputs": [],
   "source": [
    "import pandas as pd\n",
    "\n",
    "# Load lexicon (positive and negative)\n",
    "def load_lexicon(file_path):\n",
    "    lexicon = pd.read_csv(file_path, sep='\\t', header=0, names=[\"word\", \"weight\"])\n",
    "    lexicon['weight'] = pd.to_numeric(lexicon['weight'], errors='coerce').fillna(0)\n",
    "    lexicon_dict = dict(zip(lexicon['word'].str.lower(), lexicon['weight']))\n",
    "    return lexicon_dict\n",
    "\n",
    "# count sentiment score\n",
    "def label_sentiment(text, positive_lexicon, negative_lexicon):\n",
    "    words = text.split()  \n",
    "    sentiment_score = 0\n",
    "    word_weights = []  \n",
    "    \n",
    "    for word in words:\n",
    "        word = word.lower()\n",
    "        if word in positive_lexicon:\n",
    "            weight = positive_lexicon[word]\n",
    "        elif word in negative_lexicon:\n",
    "            weight = negative_lexicon[word]\n",
    "        else:\n",
    "            weight = 0\n",
    "        sentiment_score += weight\n",
    "        word_weights.append((weight))\n",
    "\n",
    "    # define label sentiment\n",
    "    if sentiment_score > 0:\n",
    "        label = 'positive'\n",
    "    elif sentiment_score < 0:\n",
    "        label = 'negative'\n",
    "    else:\n",
    "        label = 'neutral'  \n",
    "    \n",
    "    return label, sentiment_score, word_weights\n",
    "\n",
    "positive_lexicon = load_lexicon('positive.tsv')  \n",
    "negative_lexicon = load_lexicon('negative.tsv')  \n",
    "\n",
    "df = pd.DataFrame(dfa)\n",
    "\n",
    "df[['label', 'total_weight', 'word_weights']] = dfa['stemming'].apply(\n",
    "    lambda x: pd.Series(label_sentiment(x, positive_lexicon, negative_lexicon))\n",
    ")"
   ]
  },
  {
   "cell_type": "code",
   "execution_count": 22,
   "id": "f9b52e4e-71ee-4e00-93a7-d5f8055a2a9b",
   "metadata": {},
   "outputs": [
    {
     "data": {
      "text/html": [
       "<div>\n",
       "<style scoped>\n",
       "    .dataframe tbody tr th:only-of-type {\n",
       "        vertical-align: middle;\n",
       "    }\n",
       "\n",
       "    .dataframe tbody tr th {\n",
       "        vertical-align: top;\n",
       "    }\n",
       "\n",
       "    .dataframe thead th {\n",
       "        text-align: right;\n",
       "    }\n",
       "</style>\n",
       "<table border=\"1\" class=\"dataframe\">\n",
       "  <thead>\n",
       "    <tr style=\"text-align: right;\">\n",
       "      <th></th>\n",
       "      <th>stemming</th>\n",
       "      <th>label</th>\n",
       "      <th>total_weight</th>\n",
       "      <th>word_weights</th>\n",
       "    </tr>\n",
       "  </thead>\n",
       "  <tbody>\n",
       "    <tr>\n",
       "      <th>0</th>\n",
       "      <td>kayak kopi kenang janji_jiwa</td>\n",
       "      <td>neutral</td>\n",
       "      <td>0</td>\n",
       "      <td>[-3, 0, 3, 0]</td>\n",
       "    </tr>\n",
       "    <tr>\n",
       "      <th>1</th>\n",
       "      <td>lanjut janji_jiwa stay hungry tau</td>\n",
       "      <td>positive</td>\n",
       "      <td>4</td>\n",
       "      <td>[2, 0, 0, 0, 2]</td>\n",
       "    </tr>\n",
       "    <tr>\n",
       "      <th>2</th>\n",
       "      <td>hari kopi nya caramel macchiato janji_jiwa</td>\n",
       "      <td>neutral</td>\n",
       "      <td>0</td>\n",
       "      <td>[0, 0, 0, 0, 0, 0]</td>\n",
       "    </tr>\n",
       "    <tr>\n",
       "      <th>3</th>\n",
       "      <td>janji_jiwa seblak aesthetic</td>\n",
       "      <td>neutral</td>\n",
       "      <td>0</td>\n",
       "      <td>[0, 0, 0]</td>\n",
       "    </tr>\n",
       "    <tr>\n",
       "      <th>4</th>\n",
       "      <td>banyak engga suka janji_jiwa padahal favorit i...</td>\n",
       "      <td>positive</td>\n",
       "      <td>19</td>\n",
       "      <td>[3, 0, 3, 0, 0, 5, 0, 0, 0, 3, 0, 0, 0, 5, 0]</td>\n",
       "    </tr>\n",
       "    <tr>\n",
       "      <th>5</th>\n",
       "      <td>halo warga magelang shoes and care open recrui...</td>\n",
       "      <td>neutral</td>\n",
       "      <td>0</td>\n",
       "      <td>[1, 0, 0, 0, 0, 2, -3, 0]</td>\n",
       "    </tr>\n",
       "    <tr>\n",
       "      <th>6</th>\n",
       "      <td>cari store manager shoe technician kirim cv la...</td>\n",
       "      <td>neutral</td>\n",
       "      <td>0</td>\n",
       "      <td>[-3, 0, 0, 0, 0, 2, 0, 0, 0, 0, 2, 0, 0, 0, 0,...</td>\n",
       "    </tr>\n",
       "    <tr>\n",
       "      <th>7</th>\n",
       "      <td>janji_jiwa</td>\n",
       "      <td>neutral</td>\n",
       "      <td>0</td>\n",
       "      <td>[0]</td>\n",
       "    </tr>\n",
       "    <tr>\n",
       "      <th>8</th>\n",
       "      <td>kopi susu sahabat janji_jiwa gila enak banget ...</td>\n",
       "      <td>positive</td>\n",
       "      <td>25</td>\n",
       "      <td>[0, 0, 4, 0, 3, 5, 1, 0, 5, 1, 0, 3, 3]</td>\n",
       "    </tr>\n",
       "    <tr>\n",
       "      <th>9</th>\n",
       "      <td>habis beberes kamar baru sadar nyata kumpul to...</td>\n",
       "      <td>positive</td>\n",
       "      <td>10</td>\n",
       "      <td>[3, 0, 0, 0, 2, 4, 0, 0, 0, 3, 1, -3]</td>\n",
       "    </tr>\n",
       "    <tr>\n",
       "      <th>10</th>\n",
       "      <td>bjir wkwjwkk janji suci penting bukan janji_ji...</td>\n",
       "      <td>positive</td>\n",
       "      <td>1</td>\n",
       "      <td>[0, 0, 0, 4, 3, -3, 0, -3]</td>\n",
       "    </tr>\n",
       "    <tr>\n",
       "      <th>11</th>\n",
       "      <td>janji_jiwa enak engga enak pas jaman covid</td>\n",
       "      <td>positive</td>\n",
       "      <td>11</td>\n",
       "      <td>[0, 5, 0, 5, 3, -2, 0]</td>\n",
       "    </tr>\n",
       "    <tr>\n",
       "      <th>12</th>\n",
       "      <td>coba pas bal surabaya engga tau kalo tempat</td>\n",
       "      <td>positive</td>\n",
       "      <td>10</td>\n",
       "      <td>[2, 3, 0, 0, 0, 2, 0, 3]</td>\n",
       "    </tr>\n",
       "    <tr>\n",
       "      <th>13</th>\n",
       "      <td>tuku sih memang baik murah enak jelas family mart</td>\n",
       "      <td>positive</td>\n",
       "      <td>16</td>\n",
       "      <td>[0, 0, 4, 3, 3, 5, 1, 0, 0]</td>\n",
       "    </tr>\n",
       "    <tr>\n",
       "      <th>14</th>\n",
       "      <td>dulu jaman corona soe enak engga mahal corona ...</td>\n",
       "      <td>positive</td>\n",
       "      <td>1</td>\n",
       "      <td>[0, -2, 0, -5, 5, 0, 1, 0, 1, 0, 1]</td>\n",
       "    </tr>\n",
       "    <tr>\n",
       "      <th>15</th>\n",
       "      <td>janji_jiwa mah manis doang enak kagak</td>\n",
       "      <td>positive</td>\n",
       "      <td>8</td>\n",
       "      <td>[0, 0, 5, 1, 5, -3]</td>\n",
       "    </tr>\n",
       "    <tr>\n",
       "      <th>16</th>\n",
       "      <td>yessss tertawa lumayan janji_jiwa sekarang sam...</td>\n",
       "      <td>positive</td>\n",
       "      <td>15</td>\n",
       "      <td>[0, 5, 1, 0, 0, 3, 0, 1, 5]</td>\n",
       "    </tr>\n",
       "    <tr>\n",
       "      <th>17</th>\n",
       "      <td>kalau janji_jiwa selalu beli matchanya sih sin...</td>\n",
       "      <td>positive</td>\n",
       "      <td>10</td>\n",
       "      <td>[-1, 0, 0, 2, 0, 0, 0, 2, 1, 0, 3, 1, 3, 0, 0,...</td>\n",
       "    </tr>\n",
       "    <tr>\n",
       "      <th>18</th>\n",
       "      <td>janji_jiwa matcha lovers beli cuma ribu klaim ...</td>\n",
       "      <td>positive</td>\n",
       "      <td>11</td>\n",
       "      <td>[0, 0, 4, 2, 3, 0, 0, 2]</td>\n",
       "    </tr>\n",
       "    <tr>\n",
       "      <th>19</th>\n",
       "      <td>begini tau dulu janji_jiwa kopi soe waktu awal...</td>\n",
       "      <td>positive</td>\n",
       "      <td>2</td>\n",
       "      <td>[-1, 2, 0, 0, 0, -5, 0, 3, 0, 0, 0, 0, 0, 0, 0...</td>\n",
       "    </tr>\n",
       "  </tbody>\n",
       "</table>\n",
       "</div>"
      ],
      "text/plain": [
       "                                             stemming     label  total_weight  \\\n",
       "0                        kayak kopi kenang janji_jiwa   neutral             0   \n",
       "1                   lanjut janji_jiwa stay hungry tau  positive             4   \n",
       "2          hari kopi nya caramel macchiato janji_jiwa   neutral             0   \n",
       "3                         janji_jiwa seblak aesthetic   neutral             0   \n",
       "4   banyak engga suka janji_jiwa padahal favorit i...  positive            19   \n",
       "5   halo warga magelang shoes and care open recrui...   neutral             0   \n",
       "6   cari store manager shoe technician kirim cv la...   neutral             0   \n",
       "7                                          janji_jiwa   neutral             0   \n",
       "8   kopi susu sahabat janji_jiwa gila enak banget ...  positive            25   \n",
       "9   habis beberes kamar baru sadar nyata kumpul to...  positive            10   \n",
       "10  bjir wkwjwkk janji suci penting bukan janji_ji...  positive             1   \n",
       "11         janji_jiwa enak engga enak pas jaman covid  positive            11   \n",
       "12        coba pas bal surabaya engga tau kalo tempat  positive            10   \n",
       "13  tuku sih memang baik murah enak jelas family mart  positive            16   \n",
       "14  dulu jaman corona soe enak engga mahal corona ...  positive             1   \n",
       "15              janji_jiwa mah manis doang enak kagak  positive             8   \n",
       "16  yessss tertawa lumayan janji_jiwa sekarang sam...  positive            15   \n",
       "17  kalau janji_jiwa selalu beli matchanya sih sin...  positive            10   \n",
       "18  janji_jiwa matcha lovers beli cuma ribu klaim ...  positive            11   \n",
       "19  begini tau dulu janji_jiwa kopi soe waktu awal...  positive             2   \n",
       "\n",
       "                                         word_weights  \n",
       "0                                       [-3, 0, 3, 0]  \n",
       "1                                     [2, 0, 0, 0, 2]  \n",
       "2                                  [0, 0, 0, 0, 0, 0]  \n",
       "3                                           [0, 0, 0]  \n",
       "4       [3, 0, 3, 0, 0, 5, 0, 0, 0, 3, 0, 0, 0, 5, 0]  \n",
       "5                           [1, 0, 0, 0, 0, 2, -3, 0]  \n",
       "6   [-3, 0, 0, 0, 0, 2, 0, 0, 0, 0, 2, 0, 0, 0, 0,...  \n",
       "7                                                 [0]  \n",
       "8             [0, 0, 4, 0, 3, 5, 1, 0, 5, 1, 0, 3, 3]  \n",
       "9               [3, 0, 0, 0, 2, 4, 0, 0, 0, 3, 1, -3]  \n",
       "10                         [0, 0, 0, 4, 3, -3, 0, -3]  \n",
       "11                             [0, 5, 0, 5, 3, -2, 0]  \n",
       "12                           [2, 3, 0, 0, 0, 2, 0, 3]  \n",
       "13                        [0, 0, 4, 3, 3, 5, 1, 0, 0]  \n",
       "14                [0, -2, 0, -5, 5, 0, 1, 0, 1, 0, 1]  \n",
       "15                                [0, 0, 5, 1, 5, -3]  \n",
       "16                        [0, 5, 1, 0, 0, 3, 0, 1, 5]  \n",
       "17  [-1, 0, 0, 2, 0, 0, 0, 2, 1, 0, 3, 1, 3, 0, 0,...  \n",
       "18                           [0, 0, 4, 2, 3, 0, 0, 2]  \n",
       "19  [-1, 2, 0, 0, 0, -5, 0, 3, 0, 0, 0, 0, 0, 0, 0...  "
      ]
     },
     "execution_count": 22,
     "metadata": {},
     "output_type": "execute_result"
    }
   ],
   "source": [
    "df.head(20)"
   ]
  },
  {
   "cell_type": "markdown",
   "id": "b47452f2-e79b-41c4-a962-bfe74e16126f",
   "metadata": {},
   "source": [
    "## Count Label"
   ]
  },
  {
   "cell_type": "code",
   "execution_count": 24,
   "id": "835c3e57-1f43-4c33-a565-18bf0f7b55d5",
   "metadata": {},
   "outputs": [
    {
     "name": "stdout",
     "output_type": "stream",
     "text": [
      "label\n",
      "positive    8858\n",
      "neutral     2628\n",
      "negative    2248\n",
      "Name: count, dtype: int64\n"
     ]
    }
   ],
   "source": [
    "sentiment_counts = df['label'].value_counts()\n",
    "print(sentiment_counts)"
   ]
  },
  {
   "cell_type": "markdown",
   "id": "cd04d39c-4c74-4152-9392-d02e1e367c0f",
   "metadata": {},
   "source": [
    "#### Remove Label Neutral\n",
    "Removing the neutral label to avoid ambiguity in sentiment analysis, ensuring a clearer distinction between positive and negative opinions."
   ]
  },
  {
   "cell_type": "code",
   "execution_count": 26,
   "id": "275edfaa-71b9-43d1-ad20-2812f2ab5e99",
   "metadata": {},
   "outputs": [],
   "source": [
    "df = df[df['label'] != 'neutral']"
   ]
  },
  {
   "cell_type": "code",
   "execution_count": 27,
   "id": "6a69f25e-9deb-4e2a-b4fe-e160c766423f",
   "metadata": {},
   "outputs": [
    {
     "name": "stdout",
     "output_type": "stream",
     "text": [
      "label\n",
      "positive    8858\n",
      "negative    2248\n",
      "Name: count, dtype: int64\n"
     ]
    }
   ],
   "source": [
    "# Hitung jumlah sentimen positif dan negatif\n",
    "sentiment_counts = df['label'].value_counts()\n",
    "\n",
    "# Tampilkan hasil\n",
    "print(sentiment_counts)"
   ]
  },
  {
   "cell_type": "code",
   "execution_count": 28,
   "id": "dadcb84f-1faf-4034-abdc-4c04cf073a4d",
   "metadata": {},
   "outputs": [
    {
     "data": {
      "image/png": "[encoded data removed]",
      "text/plain": [
       "<Figure size 600x600 with 1 Axes>"
      ]
     },
     "metadata": {},
     "output_type": "display_data"
    }
   ],
   "source": [
    "import matplotlib.pyplot as plt\n",
    "\n",
    "labels = ['Positive', 'Negative']\n",
    "sizes = [8862, 2246]\n",
    "colors = ['#32CD32', '#C21807']\n",
    "\n",
    "plt.figure(figsize=(6, 6))\n",
    "plt.pie(sizes, labels=labels, autopct='%1.1f%%', startangle=90, colors=colors)\n",
    "plt.title('Sentiment Ratio (Soft Voting)')\n",
    "plt.show()\n"
   ]
  },
  {
   "cell_type": "code",
   "execution_count": 29,
   "id": "33f1cf46-5260-40be-8472-dce3aa09a7f5",
   "metadata": {},
   "outputs": [
    {
     "name": "stdout",
     "output_type": "stream",
     "text": [
      "0\n"
     ]
    }
   ],
   "source": [
    "# check NaN value\n",
    "df = df.dropna(subset=['label'])\n",
    "print(df['label'].isna().sum())"
   ]
  },
  {
   "cell_type": "code",
   "execution_count": 30,
   "id": "df3c7740-7891-4430-9df2-8758bc75fc03",
   "metadata": {},
   "outputs": [
    {
     "name": "stdout",
     "output_type": "stream",
     "text": [
      "Requirement already satisfied: wordcloud in c:\\users\\hanif\\anaconda3\\lib\\site-packages (1.9.4)\n",
      "Requirement already satisfied: numpy>=1.6.1 in c:\\users\\hanif\\anaconda3\\lib\\site-packages (from wordcloud) (1.26.4)\n",
      "Requirement already satisfied: pillow in c:\\users\\hanif\\anaconda3\\lib\\site-packages (from wordcloud) (10.4.0)\n",
      "Requirement already satisfied: matplotlib in c:\\users\\hanif\\anaconda3\\lib\\site-packages (from wordcloud) (3.9.2)\n",
      "Requirement already satisfied: contourpy>=1.0.1 in c:\\users\\hanif\\anaconda3\\lib\\site-packages (from matplotlib->wordcloud) (1.2.0)\n",
      "Requirement already satisfied: cycler>=0.10 in c:\\users\\hanif\\anaconda3\\lib\\site-packages (from matplotlib->wordcloud) (0.11.0)\n",
      "Requirement already satisfied: fonttools>=4.22.0 in c:\\users\\hanif\\anaconda3\\lib\\site-packages (from matplotlib->wordcloud) (4.51.0)\n",
      "Requirement already satisfied: kiwisolver>=1.3.1 in c:\\users\\hanif\\anaconda3\\lib\\site-packages (from matplotlib->wordcloud) (1.4.4)\n",
      "Requirement already satisfied: packaging>=20.0 in c:\\users\\hanif\\anaconda3\\lib\\site-packages (from matplotlib->wordcloud) (24.1)\n",
      "Requirement already satisfied: pyparsing>=2.3.1 in c:\\users\\hanif\\anaconda3\\lib\\site-packages (from matplotlib->wordcloud) (3.1.2)\n",
      "Requirement already satisfied: python-dateutil>=2.7 in c:\\users\\hanif\\anaconda3\\lib\\site-packages (from matplotlib->wordcloud) (2.9.0.post0)\n",
      "Requirement already satisfied: six>=1.5 in c:\\users\\hanif\\anaconda3\\lib\\site-packages (from python-dateutil>=2.7->matplotlib->wordcloud) (1.16.0)\n"
     ]
    }
   ],
   "source": [
    "!pip install wordcloud"
   ]
  },
  {
   "cell_type": "code",
   "execution_count": null,
   "id": "be7c1478-80bb-4506-98d3-39885f2570c7",
   "metadata": {},
   "outputs": [],
   "source": [
    "from collections import Counter\n",
    "from wordcloud import WordCloud\n",
    "import matplotlib.pyplot as plt\n",
    "from nltk.tokenize import word_tokenize\n",
    "from Sastrawi.StopWordRemover.StopWordRemoverFactory import StopWordRemoverFactory\n",
    "\n",
    "# Get the default stopwords list from Sastrawi\n",
    "stopword_factory = StopWordRemoverFactory()\n",
    "stopwords = stopword_factory.get_stop_words()\n",
    "\n",
    "# A list of custom words to be given a higher weight.\n",
    "custom_words = ['toast', 'promo', 'voucher', 'diskon', 'coklat', 'susu']\n",
    "positif_words = Counter()\n",
    "\n",
    "for index, row in df.iterrows():\n",
    "    sentence = row['stemming']\n",
    "    label = row['label']\n",
    "    \n",
    "    words = word_tokenize(sentence)\n",
    "    \n",
    "    words = [word for word in words if word not in stopwords]\n",
    "    \n",
    "    if label == 'positive':  \n",
    "        for word in words:\n",
    "            if word in custom_words:\n",
    "                positif_words[word] += 15 \n",
    "            else:\n",
    "                positif_words[word] += 1  \n",
    "\n",
    "wordcloud_positif = WordCloud(\n",
    "    width=800, \n",
    "    height=400, \n",
    "    background_color='white', \n",
    ").generate_from_frequencies(positif_words)\n",
    "\n",
    "# Plot WordCloud\n",
    "plt.figure(figsize=(10, 5))\n",
    "plt.imshow(wordcloud_positif, interpolation='bilinear')\n",
    "plt.axis('off')\n",
    "plt.show()\n"
   ]
  },
  {
   "cell_type": "code",
   "execution_count": null,
   "id": "170ef5fa-97f2-4432-871d-f79964fc9cc2",
   "metadata": {},
   "outputs": [],
   "source": [
    "from collections import Counter\n",
    "from wordcloud import WordCloud\n",
    "import matplotlib.pyplot as plt\n",
    "from nltk.tokenize import word_tokenize  \n",
    "from Sastrawi.StopWordRemover.StopWordRemoverFactory import StopWordRemoverFactory\n",
    "\n",
    "stopword_factory = StopWordRemoverFactory()\n",
    "stopwords = stopword_factory.get_stop_words()\n",
    "\n",
    "custom_words = ['americano', 'rasa', 'kopi', 'kualitas', 'air', 'gaenak', 'cair']\n",
    "negative_words = Counter()\n",
    "\n",
    "for index, row in df.iterrows():\n",
    "    sentence = row['stemming']\n",
    "    label = row['label']\n",
    "    \n",
    "    words = word_tokenize(sentence)\n",
    "    words = [word for word in words if word not in stopwords]\n",
    "    \n",
    "    if label == 'negative':  \n",
    "        for word in words:\n",
    "            if word in custom_words:\n",
    "                negative_words[word] += 15  \n",
    "            else:\n",
    "                negative_words[word] += 1  \n",
    "\n",
    "wordcloud_negative = WordCloud(\n",
    "    width=800, \n",
    "    height=400, \n",
    "    background_color='white', \n",
    ").generate_from_frequencies(negative_words)\n",
    "\n",
    "# Plot WordCloud\n",
    "plt.figure(figsize=(10, 5))\n",
    "plt.imshow(wordcloud_negative, interpolation='bilinear')\n",
    "plt.axis('off')\n",
    "plt.show()\n"
   ]
  },
  {
   "cell_type": "markdown",
   "id": "c77d62d4-4fbd-4996-ab46-01c546db489a",
   "metadata": {},
   "source": [
    "### Save file "
   ]
  },
  {
   "cell_type": "code",
   "execution_count": null,
   "id": "4fd59f79-1228-47bb-a12a-2f0ab29520e9",
   "metadata": {},
   "outputs": [],
   "source": [
    "df = pd.DataFrame(df)\n",
    "df.to_csv(\"datalabel.csv\", index=False)"
   ]
  },
  {
   "cell_type": "markdown",
   "id": "6e49a7d9-a512-4156-a261-bd45416afb90",
   "metadata": {},
   "source": [
    "# **Feature Extraction**"
   ]
  },
  {
   "cell_type": "markdown",
   "id": "c68b8fb8-cb07-4344-93cd-0c8b4a2a30f9",
   "metadata": {},
   "source": [
    "# TF-IDF"
   ]
  },
  {
   "cell_type": "code",
   "execution_count": 178,
   "id": "941c67d8-92b7-4104-b7bc-600ef0d86369",
   "metadata": {},
   "outputs": [],
   "source": [
    "import pandas as pd\n",
    "\n",
    "dfb=pd.read_csv(r'datalabel.csv')"
   ]
  },
  {
   "cell_type": "code",
   "execution_count": 180,
   "id": "b7527be5-eb77-4223-877f-4868b64e5c80",
   "metadata": {},
   "outputs": [
    {
     "name": "stdout",
     "output_type": "stream",
     "text": [
      "label\n",
      "positive    8858\n",
      "negative    2248\n",
      "Name: count, dtype: int64\n"
     ]
    }
   ],
   "source": [
    "sentiment_counts = dfb['label'].value_counts()\n",
    "print(sentiment_counts)"
   ]
  },
  {
   "cell_type": "code",
   "execution_count": 184,
   "id": "81952c36-dd26-4fa9-81b2-6bc6a4b8e8c1",
   "metadata": {},
   "outputs": [],
   "source": [
    "df = dfb.dropna(subset=['stemming'])"
   ]
  },
  {
   "cell_type": "code",
   "execution_count": 186,
   "id": "836c9a31-36c7-46ae-bddb-fd12940e6a68",
   "metadata": {},
   "outputs": [
    {
     "name": "stdout",
     "output_type": "stream",
     "text": [
      "0\n"
     ]
    }
   ],
   "source": [
    "print(df['label'].isnull().sum()) "
   ]
  },
  {
   "cell_type": "markdown",
   "id": "43d75e3e-449a-4a4a-8bf3-59df493f8d59",
   "metadata": {},
   "source": [
    "### Create 500 Feature"
   ]
  },
  {
   "cell_type": "code",
   "execution_count": 189,
   "id": "3515be0e-dae9-48b0-a75f-7500ad6fd930",
   "metadata": {},
   "outputs": [],
   "source": [
    "df1=df"
   ]
  },
  {
   "cell_type": "code",
   "execution_count": 191,
   "id": "f3170591-57a5-4045-8f3f-5574d262f070",
   "metadata": {},
   "outputs": [],
   "source": [
    "from sklearn.feature_extraction.text import TfidfVectorizer\n",
    "import pandas as pd\n",
    "from sklearn.feature_extraction.text import TfidfVectorizer\n",
    "\n",
    "# Inisialisasi TF-IDF Vectorizer tanpa stopword karena sudah melalui preprocessing\n",
    "tfidf_vectorizer = TfidfVectorizer(max_features=500)  # Stopword dihilangkan di tahap preprocessing\n",
    "\n",
    "# Melakukan fit_transform pada data teks yang telah melalui preprocessing (stopwords dan stemming)\n",
    "tfidf_matrix = tfidf_vectorizer.fit_transform(df['stemming'])\n",
    "\n",
    "# Mengonversi hasil TF-IDF menjadi DataFrame agar lebih mudah dibaca\n",
    "tfidf_df = pd.DataFrame(tfidf_matrix.toarray(), columns=tfidf_vectorizer.get_feature_names_out())\n",
    "\n",
    "# Gabungkan hasil TF-IDF ke dalam DataFrame asli\n",
    "data_tfidf1 = pd.concat([df1, tfidf_df], axis=1)"
   ]
  },
  {
   "cell_type": "code",
   "execution_count": 193,
   "id": "9d554043-f0f1-46ff-89d6-845fecf3ca62",
   "metadata": {},
   "outputs": [
    {
     "name": "stdout",
     "output_type": "stream",
     "text": [
      "<class 'pandas.core.frame.DataFrame'>\n",
      "RangeIndex: 11106 entries, 0 to 11105\n",
      "Columns: 504 entries, stemming to zonauang\n",
      "dtypes: float64(500), int64(1), object(3)\n",
      "memory usage: 42.7+ MB\n"
     ]
    }
   ],
   "source": [
    "data_tfidf1.info()"
   ]
  },
  {
   "cell_type": "code",
   "execution_count": 195,
   "id": "91cec8da-abfc-445f-a517-30d00879c8d7",
   "metadata": {},
   "outputs": [],
   "source": [
    "df1 = pd.DataFrame(data_tfidf1)\n",
    "df1.to_csv(\"500feature.csv\", index=False)"
   ]
  },
  {
   "cell_type": "markdown",
   "id": "bce6d00e-9f2f-4296-9673-10a26f8f421b",
   "metadata": {},
   "source": [
    "### Create 5000 Feature"
   ]
  },
  {
   "cell_type": "code",
   "execution_count": 50,
   "id": "ab4bbca4-ce58-4e21-a58a-2a512850ce20",
   "metadata": {},
   "outputs": [],
   "source": [
    "df3=df"
   ]
  },
  {
   "cell_type": "code",
   "execution_count": 51,
   "id": "b98427bc-f940-4abb-af3f-c828af6d4efa",
   "metadata": {},
   "outputs": [],
   "source": [
    "from sklearn.feature_extraction.text import TfidfVectorizer\n",
    "import pandas as pd\n",
    "from sklearn.feature_extraction.text import TfidfVectorizer\n",
    "\n",
    "# Inisialisasi TF-IDF Vectorizer tanpa stopword karena sudah melalui preprocessing\n",
    "tfidf_vectorizer = TfidfVectorizer(max_features=500)  # Stopword dihilangkan di tahap preprocessing\n",
    "\n",
    "# Melakukan fit_transform pada data teks yang telah melalui preprocessing (stopwords dan stemming)\n",
    "tfidf_matrix = tfidf_vectorizer.fit_transform(df3['stemming'])\n",
    "\n",
    "# Mengonversi hasil TF-IDF menjadi DataFrame agar lebih mudah dibaca\n",
    "tfidf_df = pd.DataFrame(tfidf_matrix.toarray(), columns=tfidf_vectorizer.get_feature_names_out())\n",
    "\n",
    "# Gabungkan hasil TF-IDF ke dalam DataFrame asli\n",
    "data_tfidf2 = pd.concat([df3, tfidf_df], axis=1)"
   ]
  },
  {
   "cell_type": "code",
   "execution_count": 52,
   "id": "f83acfe4-b249-4660-878b-c7da3d85e984",
   "metadata": {},
   "outputs": [
    {
     "name": "stdout",
     "output_type": "stream",
     "text": [
      "<class 'pandas.core.frame.DataFrame'>\n",
      "RangeIndex: 11108 entries, 0 to 11107\n",
      "Columns: 504 entries, stemming to zonauang\n",
      "dtypes: float64(500), int64(1), object(3)\n",
      "memory usage: 42.7+ MB\n"
     ]
    }
   ],
   "source": [
    "data_tfidf2.info()"
   ]
  },
  {
   "cell_type": "code",
   "execution_count": 53,
   "id": "2a2c50dd-0002-43d0-bc6f-973773279367",
   "metadata": {},
   "outputs": [],
   "source": [
    "df2 = pd.DataFrame(data_tfidf2)\n",
    "df2.to_csv(\"5000feature.csv\", index=False)"
   ]
  },
  {
   "cell_type": "code",
   "execution_count": null,
   "id": "6df7e8ec-60ff-4715-bf00-73da4f9e342a",
   "metadata": {},
   "outputs": [],
   "source": []
  }
 ],
 "metadata": {
  "kernelspec": {
   "display_name": "Python 3 (ipykernel)",
   "language": "python",
   "name": "python3"
  },
  "language_info": {
   "codemirror_mode": {
    "name": "ipython",
    "version": 3
   },
   "file_extension": ".py",
   "mimetype": "text/x-python",
   "name": "python",
   "nbconvert_exporter": "python",
   "pygments_lexer": "ipython3",
   "version": "3.12.7"
  }
 },
 "nbformat": 4,
 "nbformat_minor": 5
}
