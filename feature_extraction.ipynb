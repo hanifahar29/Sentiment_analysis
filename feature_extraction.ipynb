{
 "cells": [
  {
   "cell_type": "markdown",
   "id": "35a88de1-fab6-498f-8360-aefccf13e368",
   "metadata": {},
   "source": [
    "### Load Data"
   ]
  },
  {
   "cell_type": "code",
   "execution_count": 3,
   "id": "3762b45a-e5c1-41ca-ad77-d0fe3389fda7",
   "metadata": {},
   "outputs": [],
   "source": [
    "import pandas as pd\n",
    "df=pd.read_csv(r'datalabel.csv')"
   ]
  },
  {
   "cell_type": "code",
   "execution_count": 7,
   "id": "54a77285-27bf-415b-baa6-6bb25bfd13bc",
   "metadata": {},
   "outputs": [
    {
     "data": {
      "text/plain": [
       "label\n",
       "positive    8858\n",
       "negative    2248\n",
       "Name: count, dtype: int64"
      ]
     },
     "execution_count": 7,
     "metadata": {},
     "output_type": "execute_result"
    }
   ],
   "source": [
    "df['label'].value_counts()"
   ]
  },
  {
   "cell_type": "code",
   "execution_count": 9,
   "id": "f6abe7d6-d418-4082-82fc-3d3600f3fcb0",
   "metadata": {},
   "outputs": [
    {
     "name": "stdout",
     "output_type": "stream",
     "text": [
      "<class 'pandas.core.frame.DataFrame'>\n",
      "RangeIndex: 11106 entries, 0 to 11105\n",
      "Data columns (total 4 columns):\n",
      " #   Column        Non-Null Count  Dtype \n",
      "---  ------        --------------  ----- \n",
      " 0   stemming      11106 non-null  object\n",
      " 1   label         11106 non-null  object\n",
      " 2   total_weight  11106 non-null  int64 \n",
      " 3   word_weights  11106 non-null  object\n",
      "dtypes: int64(1), object(3)\n",
      "memory usage: 347.2+ KB\n"
     ]
    }
   ],
   "source": [
    "df.info()"
   ]
  },
  {
   "cell_type": "code",
   "execution_count": 15,
   "id": "9c77045a-7212-40d8-8b62-15044605b8e8",
   "metadata": {},
   "outputs": [
    {
     "data": {
      "text/plain": [
       "0"
      ]
     },
     "execution_count": 15,
     "metadata": {},
     "output_type": "execute_result"
    }
   ],
   "source": [
    "df['stemming'].isnull().sum()"
   ]
  },
  {
   "cell_type": "markdown",
   "id": "ba4b4d2a-fce2-4cb6-b7bf-afd59ad5df1e",
   "metadata": {},
   "source": [
    "### TF-IDF\n",
    "Create 500 feature"
   ]
  },
  {
   "cell_type": "code",
   "execution_count": 19,
   "id": "fcb952a8-5ced-4c96-b1e4-3c64daa4d5fa",
   "metadata": {},
   "outputs": [],
   "source": [
    "from sklearn.feature_extraction.text import TfidfVectorizer\n",
    "\n",
    "tf_idf = TfidfVectorizer(max_features=500)\n",
    "tfidf_matrix = tf_idf.fit_transform(df['stemming'])\n",
    "\n",
    "tfidf_df = pd.DataFrame(tfidf_matrix.toarray(), columns=tf_idf.get_feature_names_out())\n",
    "\n",
    "data = pd.concat([df, tfidf_df], axis=1)"
   ]
  },
  {
   "cell_type": "code",
   "execution_count": 21,
   "id": "df5028bd-a34a-4ddc-9f05-9c80fbe61eff",
   "metadata": {},
   "outputs": [
    {
     "name": "stdout",
     "output_type": "stream",
     "text": [
      "<class 'pandas.core.frame.DataFrame'>\n",
      "RangeIndex: 11106 entries, 0 to 11105\n",
      "Columns: 504 entries, stemming to zonauang\n",
      "dtypes: float64(500), int64(1), object(3)\n",
      "memory usage: 42.7+ MB\n"
     ]
    }
   ],
   "source": [
    "data.info()"
   ]
  },
  {
   "cell_type": "code",
   "execution_count": 23,
   "id": "0922ec32-ac7c-4b51-9643-3a8e49eb3d05",
   "metadata": {},
   "outputs": [
    {
     "data": {
      "text/html": [
       "<div>\n",
       "<style scoped>\n",
       "    .dataframe tbody tr th:only-of-type {\n",
       "        vertical-align: middle;\n",
       "    }\n",
       "\n",
       "    .dataframe tbody tr th {\n",
       "        vertical-align: top;\n",
       "    }\n",
       "\n",
       "    .dataframe thead th {\n",
       "        text-align: right;\n",
       "    }\n",
       "</style>\n",
       "<table border=\"1\" class=\"dataframe\">\n",
       "  <thead>\n",
       "    <tr style=\"text-align: right;\">\n",
       "      <th></th>\n",
       "      <th>stemming</th>\n",
       "      <th>label</th>\n",
       "      <th>total_weight</th>\n",
       "      <th>word_weights</th>\n",
       "      <th>aci</th>\n",
       "      <th>ada</th>\n",
       "      <th>admin</th>\n",
       "      <th>aduh</th>\n",
       "      <th>ah</th>\n",
       "      <th>air</th>\n",
       "      <th>...</th>\n",
       "      <th>varian</th>\n",
       "      <th>versi</th>\n",
       "      <th>voc</th>\n",
       "      <th>voucher</th>\n",
       "      <th>waktu</th>\n",
       "      <th>walaupun</th>\n",
       "      <th>wts</th>\n",
       "      <th>yuk</th>\n",
       "      <th>zonajajan</th>\n",
       "      <th>zonauang</th>\n",
       "    </tr>\n",
       "  </thead>\n",
       "  <tbody>\n",
       "    <tr>\n",
       "      <th>0</th>\n",
       "      <td>lanjut janji_jiwa stay hungry tau</td>\n",
       "      <td>positive</td>\n",
       "      <td>4</td>\n",
       "      <td>[2, 0, 0, 0, 2]</td>\n",
       "      <td>0.0</td>\n",
       "      <td>0.0</td>\n",
       "      <td>0.0</td>\n",
       "      <td>0.0</td>\n",
       "      <td>0.0</td>\n",
       "      <td>0.0</td>\n",
       "      <td>...</td>\n",
       "      <td>0.0</td>\n",
       "      <td>0.0</td>\n",
       "      <td>0.0</td>\n",
       "      <td>0.0</td>\n",
       "      <td>0.0</td>\n",
       "      <td>0.0</td>\n",
       "      <td>0.0</td>\n",
       "      <td>0.0</td>\n",
       "      <td>0.0</td>\n",
       "      <td>0.0</td>\n",
       "    </tr>\n",
       "    <tr>\n",
       "      <th>1</th>\n",
       "      <td>banyak engga suka janji_jiwa padahal favorit i...</td>\n",
       "      <td>positive</td>\n",
       "      <td>19</td>\n",
       "      <td>[3, 0, 3, 0, 0, 5, 0, 0, 0, 3, 0, 0, 0, 5, 0]</td>\n",
       "      <td>0.0</td>\n",
       "      <td>0.0</td>\n",
       "      <td>0.0</td>\n",
       "      <td>0.0</td>\n",
       "      <td>0.0</td>\n",
       "      <td>0.0</td>\n",
       "      <td>...</td>\n",
       "      <td>0.0</td>\n",
       "      <td>0.0</td>\n",
       "      <td>0.0</td>\n",
       "      <td>0.0</td>\n",
       "      <td>0.0</td>\n",
       "      <td>0.0</td>\n",
       "      <td>0.0</td>\n",
       "      <td>0.0</td>\n",
       "      <td>0.0</td>\n",
       "      <td>0.0</td>\n",
       "    </tr>\n",
       "    <tr>\n",
       "      <th>2</th>\n",
       "      <td>kopi susu sahabat janji_jiwa gila enak banget ...</td>\n",
       "      <td>positive</td>\n",
       "      <td>25</td>\n",
       "      <td>[0, 0, 4, 0, 3, 5, 1, 0, 5, 1, 0, 3, 3]</td>\n",
       "      <td>0.0</td>\n",
       "      <td>0.0</td>\n",
       "      <td>0.0</td>\n",
       "      <td>0.0</td>\n",
       "      <td>0.0</td>\n",
       "      <td>0.0</td>\n",
       "      <td>...</td>\n",
       "      <td>0.0</td>\n",
       "      <td>0.0</td>\n",
       "      <td>0.0</td>\n",
       "      <td>0.0</td>\n",
       "      <td>0.0</td>\n",
       "      <td>0.0</td>\n",
       "      <td>0.0</td>\n",
       "      <td>0.0</td>\n",
       "      <td>0.0</td>\n",
       "      <td>0.0</td>\n",
       "    </tr>\n",
       "    <tr>\n",
       "      <th>3</th>\n",
       "      <td>habis beberes kamar baru sadar nyata kumpul to...</td>\n",
       "      <td>positive</td>\n",
       "      <td>10</td>\n",
       "      <td>[3, 0, 0, 0, 2, 4, 0, 0, 0, 3, 1, -3]</td>\n",
       "      <td>0.0</td>\n",
       "      <td>0.0</td>\n",
       "      <td>0.0</td>\n",
       "      <td>0.0</td>\n",
       "      <td>0.0</td>\n",
       "      <td>0.0</td>\n",
       "      <td>...</td>\n",
       "      <td>0.0</td>\n",
       "      <td>0.0</td>\n",
       "      <td>0.0</td>\n",
       "      <td>0.0</td>\n",
       "      <td>0.0</td>\n",
       "      <td>0.0</td>\n",
       "      <td>0.0</td>\n",
       "      <td>0.0</td>\n",
       "      <td>0.0</td>\n",
       "      <td>0.0</td>\n",
       "    </tr>\n",
       "    <tr>\n",
       "      <th>4</th>\n",
       "      <td>bjir wkwjwkk janji suci penting bukan janji_ji...</td>\n",
       "      <td>positive</td>\n",
       "      <td>1</td>\n",
       "      <td>[0, 0, 0, 4, 3, -3, 0, -3]</td>\n",
       "      <td>0.0</td>\n",
       "      <td>0.0</td>\n",
       "      <td>0.0</td>\n",
       "      <td>0.0</td>\n",
       "      <td>0.0</td>\n",
       "      <td>0.0</td>\n",
       "      <td>...</td>\n",
       "      <td>0.0</td>\n",
       "      <td>0.0</td>\n",
       "      <td>0.0</td>\n",
       "      <td>0.0</td>\n",
       "      <td>0.0</td>\n",
       "      <td>0.0</td>\n",
       "      <td>0.0</td>\n",
       "      <td>0.0</td>\n",
       "      <td>0.0</td>\n",
       "      <td>0.0</td>\n",
       "    </tr>\n",
       "  </tbody>\n",
       "</table>\n",
       "<p>5 rows × 504 columns</p>\n",
       "</div>"
      ],
      "text/plain": [
       "                                            stemming     label  total_weight  \\\n",
       "0                  lanjut janji_jiwa stay hungry tau  positive             4   \n",
       "1  banyak engga suka janji_jiwa padahal favorit i...  positive            19   \n",
       "2  kopi susu sahabat janji_jiwa gila enak banget ...  positive            25   \n",
       "3  habis beberes kamar baru sadar nyata kumpul to...  positive            10   \n",
       "4  bjir wkwjwkk janji suci penting bukan janji_ji...  positive             1   \n",
       "\n",
       "                                    word_weights  aci  ada  admin  aduh   ah  \\\n",
       "0                                [2, 0, 0, 0, 2]  0.0  0.0    0.0   0.0  0.0   \n",
       "1  [3, 0, 3, 0, 0, 5, 0, 0, 0, 3, 0, 0, 0, 5, 0]  0.0  0.0    0.0   0.0  0.0   \n",
       "2        [0, 0, 4, 0, 3, 5, 1, 0, 5, 1, 0, 3, 3]  0.0  0.0    0.0   0.0  0.0   \n",
       "3          [3, 0, 0, 0, 2, 4, 0, 0, 0, 3, 1, -3]  0.0  0.0    0.0   0.0  0.0   \n",
       "4                     [0, 0, 0, 4, 3, -3, 0, -3]  0.0  0.0    0.0   0.0  0.0   \n",
       "\n",
       "   air  ...  varian  versi  voc  voucher  waktu  walaupun  wts  yuk  \\\n",
       "0  0.0  ...     0.0    0.0  0.0      0.0    0.0       0.0  0.0  0.0   \n",
       "1  0.0  ...     0.0    0.0  0.0      0.0    0.0       0.0  0.0  0.0   \n",
       "2  0.0  ...     0.0    0.0  0.0      0.0    0.0       0.0  0.0  0.0   \n",
       "3  0.0  ...     0.0    0.0  0.0      0.0    0.0       0.0  0.0  0.0   \n",
       "4  0.0  ...     0.0    0.0  0.0      0.0    0.0       0.0  0.0  0.0   \n",
       "\n",
       "   zonajajan  zonauang  \n",
       "0        0.0       0.0  \n",
       "1        0.0       0.0  \n",
       "2        0.0       0.0  \n",
       "3        0.0       0.0  \n",
       "4        0.0       0.0  \n",
       "\n",
       "[5 rows x 504 columns]"
      ]
     },
     "execution_count": 23,
     "metadata": {},
     "output_type": "execute_result"
    }
   ],
   "source": [
    "data.head()"
   ]
  },
  {
   "cell_type": "code",
   "execution_count": 25,
   "id": "92fe828c-d118-4693-a8a9-9d257dfbabbe",
   "metadata": {},
   "outputs": [],
   "source": [
    "data.to_csv(\"500feature.csv\", index=False)"
   ]
  },
  {
   "cell_type": "code",
   "execution_count": null,
   "id": "2be39da8-d203-4615-8184-d07f5db10104",
   "metadata": {},
   "outputs": [],
   "source": []
  }
 ],
 "metadata": {
  "kernelspec": {
   "display_name": "Python 3 (ipykernel)",
   "language": "python",
   "name": "python3"
  },
  "language_info": {
   "codemirror_mode": {
    "name": "ipython",
    "version": 3
   },
   "file_extension": ".py",
   "mimetype": "text/x-python",
   "name": "python",
   "nbconvert_exporter": "python",
   "pygments_lexer": "ipython3",
   "version": "3.12.7"
  }
 },
 "nbformat": 4,
 "nbformat_minor": 5
}
